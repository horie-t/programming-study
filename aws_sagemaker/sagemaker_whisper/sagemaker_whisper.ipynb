{
 "cells": [
  {
   "cell_type": "code",
   "execution_count": 35,
   "id": "978b59f0-5882-40bd-bf2e-cf83a2312f2c",
   "metadata": {},
   "outputs": [
    {
     "name": "stdout",
     "output_type": "stream",
     "text": [
      "/home/tetsuya/repo/experiment/sagemaker_whisper\n"
     ]
    }
   ],
   "source": [
    "!pwd"
   ]
  },
  {
   "cell_type": "code",
   "execution_count": 44,
   "id": "d384b857-f0f0-46bb-afd5-a630da100db2",
   "metadata": {},
   "outputs": [
    {
     "name": "stdout",
     "output_type": "stream",
     "text": [
      "/home/tetsuya/repo/experiment/sagemaker_whisper\n"
     ]
    }
   ],
   "source": [
    "%cd /home/tetsuya/repo/experiment/sagemaker_whisper"
   ]
  },
  {
   "cell_type": "code",
   "execution_count": 45,
   "id": "089dd311-4d3e-4de1-949f-cec75bb1645e",
   "metadata": {},
   "outputs": [
    {
     "name": "stdout",
     "output_type": "stream",
     "text": [
      "WARNING! Your password will be stored unencrypted in /home/tetsuya/.docker/config.json.\n",
      "Configure a credential helper to remove this warning. See\n",
      "https://docs.docker.com/engine/reference/commandline/login/#credentials-store\n",
      "\n",
      "Login Succeeded\n",
      "Sending build context to Docker daemon   59.9kB\n",
      "Step 1/9 : FROM nvidia/cuda:11.7.1-runtime-ubuntu20.04\n",
      " ---> 9a178fee7c22\n",
      "Step 2/9 : RUN apt-get -y update\n",
      " ---> Using cache\n",
      " ---> 4d7452ab4cd0\n",
      "Step 3/9 : RUN DEBIAN_FRONTEND=noninteractive apt-get -y install         python3-pip         python3-setuptools         ffmpeg         git          nginx          ca-certificates     && rm -rf /var/lib/apt/lists/*\n",
      " ---> Using cache\n",
      " ---> 40b104673e9f\n",
      "Step 4/9 : RUN pip --no-cache-dir install git+https://github.com/openai/whisper.git setuptools-rust flask gunicorn\n",
      " ---> Using cache\n",
      " ---> c78db5f82d57\n",
      "Step 5/9 : ENV PYTHONUNBUFFERED=TRUE\n",
      " ---> Using cache\n",
      " ---> b587c468fcbf\n",
      "Step 6/9 : ENV PYTHONDONTWRITEBYTECODE=TRUE\n",
      " ---> Using cache\n",
      " ---> b0aec232dd00\n",
      "Step 7/9 : ENV PATH=\"/opt/program:${PATH}\"\n",
      " ---> Using cache\n",
      " ---> 31ed3704a77c\n",
      "Step 8/9 : COPY src /opt/program\n",
      " ---> baebe7150fd8\n",
      "Step 9/9 : WORKDIR /opt/program\n",
      " ---> Running in 85e06a8a103f\n",
      "Removing intermediate container 85e06a8a103f\n",
      " ---> bebcb5d3d136\n",
      "Successfully built bebcb5d3d136\n",
      "Successfully tagged sagemaker-whisper:latest\n",
      "The push refers to repository [269376826173.dkr.ecr.us-west-2.amazonaws.com/sagemaker-whisper]\n",
      "\n",
      "\u001b[1Bd455dacd: Preparing \n",
      "\u001b[1B187dcf7c: Preparing \n",
      "\u001b[1B03cde4dc: Preparing \n",
      "\u001b[1B5e983054: Preparing \n",
      "\u001b[1Be2e9a5a0: Preparing \n",
      "\u001b[1Bec63d09d: Preparing \n",
      "\u001b[1B360caa90: Preparing \n",
      "\u001b[1Bb23786a0: Preparing \n",
      "\u001b[1Bd37653c4: Preparing \n",
      "\u001b[1B56016ec1: Preparing \n",
      "\u001b[11B455dacd: Pushed lready exists 7kB\u001b[6A\u001b[2K\u001b[3A\u001b[2K\u001b[1A\u001b[2K\u001b[11A\u001b[2Klatest: digest: sha256:70970b6fbf7f39f061eb8287e47d860520e69930018b17e5265d5e2439d486ed size: 2637\n"
     ]
    }
   ],
   "source": [
    "!./build_and_push.sh sagemaker-whisper"
   ]
  },
  {
   "cell_type": "code",
   "execution_count": 37,
   "id": "94cc2909-cb5d-41ca-a40e-27ab6d5291b2",
   "metadata": {},
   "outputs": [
    {
     "name": "stdout",
     "output_type": "stream",
     "text": [
      "/home/tetsuya/repo/experiment/sagemaker_whisper/model\n"
     ]
    }
   ],
   "source": [
    "%cd model"
   ]
  },
  {
   "cell_type": "code",
   "execution_count": 3,
   "id": "d17541d2-7dcb-46ed-8c97-9e792e5abfb6",
   "metadata": {},
   "outputs": [
    {
     "name": "stdout",
     "output_type": "stream",
     "text": [
      "  % Total    % Received % Xferd  Average Speed   Time    Time     Time  Current\n",
      "                                 Dload  Upload   Total   Spent    Left  Speed\n",
      "100 1457M  100 1457M    0     0  9570k      0  0:02:35  0:02:35 --:--:-- 10.2M01:46 10.8M 777M    0     0  10.0M      0  0:02:25  0:01:17  0:01:08 10.9M 7109k\n"
     ]
    }
   ],
   "source": [
    "!curl -O \"https://openaipublic.azureedge.net/main/whisper/models/345ae4da62f9b3d59415adc60127b97c714f32e89e936602e85993674d08dcb1/medium.pt\""
   ]
  },
  {
   "cell_type": "code",
   "execution_count": 38,
   "id": "a67c7fbe-d12e-4e10-ba0b-fb2689da5cea",
   "metadata": {},
   "outputs": [],
   "source": [
    "!tar -czf model.tar.gz large.pt"
   ]
  },
  {
   "cell_type": "code",
   "execution_count": 20,
   "id": "bc4b85bc-99e9-42fd-865b-6ca900e70d63",
   "metadata": {},
   "outputs": [],
   "source": [
    "!tar -czf model.tar.gz medium.pt"
   ]
  },
  {
   "cell_type": "code",
   "execution_count": 1,
   "id": "e1d18b51-6bba-4294-b3b8-9bae66aff950",
   "metadata": {},
   "outputs": [],
   "source": [
    "import boto3\n",
    "\n",
    "role_name = \"SageMaker-local\"\n",
    "\n",
    "iam = boto3.client(\"iam\")\n",
    "role = iam.get_role(RoleName=role_name)[\"Role\"][\"Arn\"]"
   ]
  },
  {
   "cell_type": "code",
   "execution_count": 2,
   "id": "75e4b106-1f96-420f-b844-4bca979733c0",
   "metadata": {},
   "outputs": [],
   "source": [
    "import sagemaker as sage\n",
    "\n",
    "sess = sage.Session()"
   ]
  },
  {
   "cell_type": "code",
   "execution_count": 39,
   "id": "414467d2-5b63-4f05-a3ac-0c14c7ba26bf",
   "metadata": {},
   "outputs": [],
   "source": [
    "model_location = sess.upload_data(\"./model.tar.gz\", key_prefix=\"whisper/model\")"
   ]
  },
  {
   "cell_type": "code",
   "execution_count": 21,
   "id": "7db9fedc-c2e4-4973-b7ba-3bf0427b3111",
   "metadata": {},
   "outputs": [],
   "source": [
    "account = sess.boto_session.client('sts').get_caller_identity()['Account']\n",
    "region = sess.boto_session.region_name\n",
    "image = '{}.dkr.ecr.{}.amazonaws.com/sagemaker-whisper:latest'.format(account, region)"
   ]
  },
  {
   "cell_type": "code",
   "execution_count": 30,
   "id": "5b7e1c9d-731b-41bf-bf59-720dbe5b772c",
   "metadata": {},
   "outputs": [],
   "source": [
    "model_name = 'whisper'\n",
    "\n",
    "container_params = {\n",
    "    \"Image\": image,\n",
    "    \"ModelDataUrl\": model_location,\n",
    "}\n",
    "\n",
    "model = sess.create_model(model_name, role, container_params)"
   ]
  },
  {
   "cell_type": "code",
   "execution_count": 6,
   "id": "e947e87c-52b0-4444-b076-6f3a0387b023",
   "metadata": {},
   "outputs": [],
   "source": [
    "sagemaker_client = sess.boto_session.client('sagemaker', region_name='us-west-2')"
   ]
  },
  {
   "cell_type": "code",
   "execution_count": 40,
   "id": "e462168a-ce41-4993-a2a4-d5d440f37228",
   "metadata": {},
   "outputs": [
    {
     "name": "stdout",
     "output_type": "stream",
     "text": [
      "Created EndpointConfig: arn:aws:sagemaker:us-west-2:269376826173:endpoint-config/whisper-config\n"
     ]
    }
   ],
   "source": [
    "model = \"whisper\"\n",
    "endpoint_config_name = \"whisper-config\"\n",
    "\n",
    "create_endpoint_config_response = sagemaker_client.create_endpoint_config(\n",
    "    EndpointConfigName=endpoint_config_name,\n",
    "    ProductionVariants=[\n",
    "        {\n",
    "            \"VariantName\": \"variant1\",\n",
    "            \"ModelName\": model, \n",
    "            \"InstanceType\": \"ml.p3.2xlarge\",\n",
    "            \"InitialInstanceCount\": 1\n",
    "        }\n",
    "    ],\n",
    "    AsyncInferenceConfig={\n",
    "        \"OutputConfig\": {\n",
    "            \"S3OutputPath\": f\"s3://{sess.default_bucket()}/whisper/output\"\n",
    "        },\n",
    "    }\n",
    ")\n",
    "\n",
    "print(f\"Created EndpointConfig: {create_endpoint_config_response['EndpointConfigArn']}\")"
   ]
  },
  {
   "cell_type": "code",
   "execution_count": 46,
   "id": "6f485ac3-5dbc-4855-81a3-8242e73eb418",
   "metadata": {},
   "outputs": [],
   "source": [
    "endpoint_name = 'whisper'\n",
    "endpoint_config_name = \"whisper-config\"\n",
    "\n",
    "create_endpoint_response = sagemaker_client.create_endpoint(\n",
    "                                            EndpointName=endpoint_name, \n",
    "                                            EndpointConfigName=endpoint_config_name)"
   ]
  },
  {
   "cell_type": "code",
   "execution_count": 3,
   "id": "a77bb8f3-9fde-4729-b017-4c456484344f",
   "metadata": {},
   "outputs": [],
   "source": [
    "autoscaling_client = sess.boto_session.client('application-autoscaling') \n",
    "\n",
    "variant_name = \"variant1\"\n",
    "endpoint_name = 'whisper'\n",
    "\n",
    "resource_id=f'endpoint/{endpoint_name}/variant/{variant_name}' \n",
    "\n",
    "response = autoscaling_client.register_scalable_target(\n",
    "    ServiceNamespace='sagemaker', \n",
    "    ResourceId=resource_id,\n",
    "    ScalableDimension='sagemaker:variant:DesiredInstanceCount',\n",
    "    MinCapacity=0,  \n",
    "    MaxCapacity=1\n",
    ")\n",
    "\n",
    "response = autoscaling_client.put_scaling_policy(\n",
    "    PolicyName='Invocations-ScalingPolicy',\n",
    "    ServiceNamespace='sagemaker', \n",
    "    ResourceId=resource_id, \n",
    "    ScalableDimension='sagemaker:variant:DesiredInstanceCount',\n",
    "    PolicyType='TargetTrackingScaling',\n",
    "    TargetTrackingScalingPolicyConfiguration={\n",
    "        'TargetValue': 1.0, \n",
    "        'CustomizedMetricSpecification': {\n",
    "            'MetricName': 'ApproximateBacklogSizePerInstance',\n",
    "            'Namespace': 'AWS/SageMaker',\n",
    "            'Dimensions': [\n",
    "                {'Name': 'EndpointName', 'Value': endpoint_name }\n",
    "            ],\n",
    "            'Statistic': 'Average',\n",
    "        },\n",
    "        'ScaleInCooldown': 120,\n",
    "        'ScaleOutCooldown': 120\n",
    "    }\n",
    ")"
   ]
  },
  {
   "cell_type": "code",
   "execution_count": 5,
   "id": "7cf5f631-c2bf-4191-b33b-90c27b3a64d4",
   "metadata": {},
   "outputs": [],
   "source": [
    "sagemaker_runtime = boto3.client(\"sagemaker-runtime\", region_name='us-west-2')\n",
    "\n",
    "input_location = f\"s3://{sess.default_bucket()}/whisper/input/001-sibutomo.mp3\"\n",
    "\n",
    "response = sagemaker_runtime.invoke_endpoint_async(\n",
    "                            EndpointName=endpoint_name, \n",
    "                            InputLocation=input_location)"
   ]
  }
 ],
 "metadata": {
  "kernelspec": {
   "display_name": "Python 3 (ipykernel)",
   "language": "python",
   "name": "python3"
  },
  "language_info": {
   "codemirror_mode": {
    "name": "ipython",
    "version": 3
   },
   "file_extension": ".py",
   "mimetype": "text/x-python",
   "name": "python",
   "nbconvert_exporter": "python",
   "pygments_lexer": "ipython3",
   "version": "3.10.4"
  }
 },
 "nbformat": 4,
 "nbformat_minor": 5
}
