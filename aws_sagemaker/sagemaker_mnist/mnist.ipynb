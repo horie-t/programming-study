{
 "cells": [
  {
   "cell_type": "markdown",
   "id": "6412eaf2-7e86-4f3d-a766-be788bd427b9",
   "metadata": {},
   "source": [
    "# パッケージのインストール\n",
    "必要なパッケージをインストールします。"
   ]
  },
  {
   "cell_type": "code",
   "execution_count": null,
   "id": "079af4a2-f23f-4bb2-9121-bdd017015abd",
   "metadata": {},
   "outputs": [],
   "source": [
    "!pip install -qU torchvision sagemaker"
   ]
  },
  {
   "cell_type": "markdown",
   "id": "601976bc-c825-4d4b-8415-830bf5e5065d",
   "metadata": {},
   "source": [
    "# SageMakerのセッション開始\n",
    "SageMakerのセッションを開始し、データを保存するS3のプレフィックスと、IAMロールを設定します。"
   ]
  },
  {
   "cell_type": "code",
   "execution_count": null,
   "id": "c1a3e337-b7b4-417e-93f8-a0efab9a735a",
   "metadata": {
    "tags": []
   },
   "outputs": [],
   "source": [
    "import sagemaker\n",
    "import boto3\n",
    "\n",
    "sagemaker_session = sagemaker.Session()\n",
    "\n",
    "bucket = sagemaker_session.default_bucket()\n",
    "prefix = \"sagemaker/DEMO-pytorch-mnist\"\n",
    "\n",
    "role_name = \"SageMaker-local\"\n",
    "iam = boto3.client(\"iam\")\n",
    "role = iam.get_role(RoleName=role_name)[\"Role\"][\"Arn\"]"
   ]
  },
  {
   "cell_type": "markdown",
   "id": "9b17d355-d539-41fd-ab41-2715e6d8b967",
   "metadata": {},
   "source": [
    "# 学習用データの取得\n",
    "学習用データを取得します。)"
   ]
  },
  {
   "cell_type": "code",
   "execution_count": null,
   "id": "baf55d7b-381c-424b-813b-c9cba7156b71",
   "metadata": {},
   "outputs": [],
   "source": [
    "from torchvision.datasets import MNIST\n",
    "from torchvision import transforms\n",
    "\n",
    "MNIST.mirrors = [\"https://sagemaker-sample-files.s3.amazonaws.com/datasets/image/MNIST/\"]\n",
    "\n",
    "MNIST(\n",
    "    \"data\",\n",
    "    download=True,\n",
    "    transform=transforms.Compose(\n",
    "        [transforms.ToTensor(), transforms.Normalize((0.1307,), (0.3081,))]\n",
    "    ),\n",
    ")"
   ]
  },
  {
   "cell_type": "markdown",
   "id": "bc3bbd9b-2183-470c-a5ec-eb75633c8cf4",
   "metadata": {},
   "source": [
    "# S3にデータをアップロード"
   ]
  },
  {
   "cell_type": "code",
   "execution_count": null,
   "id": "e1a7982c-518d-4aa1-91b3-cd5b7353a378",
   "metadata": {},
   "outputs": [],
   "source": [
    "inputs = sagemaker_session.upload_data(path=\"data\", bucket=bucket, key_prefix=prefix)\n",
    "print(\"input spec (in this case, just an S3 path): {}\".format(inputs))"
   ]
  },
  {
   "cell_type": "markdown",
   "id": "189c5d09-47ea-4939-82d1-129a597a7b11",
   "metadata": {},
   "source": [
    "# 学習用のスクリプトの作成\n",
    "以下のようなスクリプトを作成します。"
   ]
  },
  {
   "cell_type": "code",
   "execution_count": null,
   "id": "83733686-4400-4321-a05c-37201b244cfc",
   "metadata": {},
   "outputs": [],
   "source": [
    "!pygmentize mnist.py"
   ]
  },
  {
   "cell_type": "markdown",
   "id": "4bf65cdf-d949-410d-bef6-d36376021c87",
   "metadata": {},
   "source": [
    "# SageMakerで学習を実行する\n",
    "以下のように学習を実行します。\n",
    "学習した結果のモデルデータは\n",
    "`s3://sagemaker-{リージョン名}-{アカウントID}/{トレーニングジョブ名}/model.tar.gz`\n",
    "に保存されます。"
   ]
  },
  {
   "cell_type": "code",
   "execution_count": null,
   "id": "db211aad-9a1e-4df4-9e5f-2a02a6c65a0d",
   "metadata": {},
   "outputs": [],
   "source": [
    "from sagemaker.pytorch import PyTorch\n",
    "\n",
    "estimator = PyTorch(\n",
    "    entry_point=\"mnist.py\",\n",
    "    role=role,\n",
    "    py_version=\"py38\",\n",
    "    framework_version=\"1.11.0\",\n",
    "    instance_count=2,\n",
    "    instance_type=\"ml.c5.2xlarge\",\n",
    "    hyperparameters={\"epochs\": 1, \"backend\": \"gloo\"},\n",
    ")"
   ]
  },
  {
   "cell_type": "code",
   "execution_count": null,
   "id": "22b326c6-7f7c-4233-bdc3-af86d383e099",
   "metadata": {},
   "outputs": [],
   "source": [
    "estimator.fit({\"training\": inputs})"
   ]
  },
  {
   "cell_type": "markdown",
   "id": "2bf5724f-a333-41df-83c7-004009c76f9b",
   "metadata": {},
   "source": [
    "# エンドポイントを作成して推論を実行する\n",
    "エンドポイントを作成(つまり、AWSの環境にデプロイしてAWS環境で推論を実行できるようにする)し、推論を実行します。"
   ]
  },
  {
   "cell_type": "code",
   "execution_count": null,
   "id": "90f26a68-5f06-4cf2-bc85-fab2ec7d7930",
   "metadata": {},
   "outputs": [],
   "source": [
    "predictor = estimator.deploy(initial_instance_count=1, instance_type=\"ml.m4.xlarge\")"
   ]
  },
  {
   "cell_type": "code",
   "execution_count": null,
   "id": "a3293a92-2b66-464a-9649-21bc61e3d340",
   "metadata": {},
   "outputs": [],
   "source": [
    "!ls data/MNIST/raw"
   ]
  },
  {
   "cell_type": "code",
   "execution_count": null,
   "id": "b042be91-2c84-4ef4-84d0-6c4eee706a52",
   "metadata": {},
   "outputs": [],
   "source": [
    "import gzip\n",
    "import numpy as np\n",
    "import random\n",
    "import os\n",
    "\n",
    "data_dir = \"data/MNIST/raw\"\n",
    "with gzip.open(os.path.join(data_dir, \"t10k-images-idx3-ubyte.gz\"), \"rb\") as f:\n",
    "    images = np.frombuffer(f.read(), np.uint8, offset=16).reshape(-1, 28, 28).astype(np.float32)\n",
    "\n",
    "mask = random.sample(range(len(images)), 16)  # randomly select some of the test images\n",
    "mask = np.array(mask, dtype=np.int)\n",
    "data = images[mask]"
   ]
  },
  {
   "cell_type": "code",
   "execution_count": null,
   "id": "e1b496f9-bf44-4083-bcf9-34d9bf08898c",
   "metadata": {},
   "outputs": [],
   "source": [
    "response = predictor.predict(np.expand_dims(data, axis=1))\n",
    "print(\"Raw prediction result:\")\n",
    "print(response)\n",
    "print()\n",
    "\n",
    "labeled_predictions = list(zip(range(10), response[0]))\n",
    "print(\"Labeled predictions: \")\n",
    "print(labeled_predictions)\n",
    "print()\n",
    "\n",
    "labeled_predictions.sort(key=lambda label_and_prob: 1.0 - label_and_prob[1])\n",
    "print(\"Most likely answer: {}\".format(labeled_predictions[0]))"
   ]
  },
  {
   "cell_type": "markdown",
   "id": "b8f72e15-10bc-4128-90c9-0a960906ffbe",
   "metadata": {},
   "source": [
    "# エンドポイントの削除\n",
    "デプロイしたエンドポイントを削除します。<font color='red'>削除するまで、コンテナの実行費用がかかります。</font>"
   ]
  },
  {
   "cell_type": "code",
   "execution_count": null,
   "id": "f800a7e4-a070-40a6-b4af-9e24443258d7",
   "metadata": {},
   "outputs": [],
   "source": [
    "sagemaker_session.delete_endpoint(endpoint_name=predictor.endpoint_name)"
   ]
  },
  {
   "cell_type": "markdown",
   "id": "8a6a3657-0a4d-4357-807a-e0b15b45fdd6",
   "metadata": {},
   "source": [
    "# Serverless Inferenceを使ったエンドポイントの作成\n",
    "時々しか実行されず、レスポンス速度が重要ではない場合、Serverless Inferenceを使ってデプロイすると、推論の実行時のみ課金されるので費用が抑えられます。\n",
    "\n",
    "以下のように、Severless環境を実行するDocker ImageのURIと、学習結果のモデルのS3のURIを指定して、モデルを生成しデプロイします。\n",
    "`{リージョン名}`と`{アカウントID}`は、適宜変更してください。"
   ]
  },
  {
   "cell_type": "code",
   "execution_count": null,
   "id": "d11d5b33-deb7-4dd0-a3cb-488e26b26e97",
   "metadata": {},
   "outputs": [],
   "source": [
    "model = sagemaker.pytorch.model.PyTorchModel(\n",
    "    model_data=\"s3://sagemaker-{リージョン名}-{アカウントID}/pytorch-training-2022-09-24-07-32-32-301/model.tar.gz\",\n",
    "    entry_point=\"mnist.py\",\n",
    "    role=role,\n",
    "    image_uri=\"763104351884.dkr.ecr.{リージョン名}.amazonaws.com/pytorch-inference:1.12.1-cpu-py38-ubuntu20.04-sagemaker\"\n",
    ")"
   ]
  },
  {
   "cell_type": "code",
   "execution_count": null,
   "id": "385efcb8-a345-4d7f-b5d6-afb094840563",
   "metadata": {},
   "outputs": [],
   "source": [
    "from sagemaker.serverless import ServerlessInferenceConfig\n",
    "\n",
    "serverless_config = ServerlessInferenceConfig(max_concurrency=1)"
   ]
  },
  {
   "cell_type": "code",
   "execution_count": null,
   "id": "c75b0dd0-5f0c-4890-ba84-c7a403f4f3af",
   "metadata": {},
   "outputs": [],
   "source": [
    "predictor = model.deploy(serverless_inference_config=serverless_config)"
   ]
  },
  {
   "cell_type": "markdown",
   "id": "d9f35c30-168d-4039-82ed-8ee16a9c57e5",
   "metadata": {},
   "source": [
    "先程と同様に、推論を実施します。"
   ]
  },
  {
   "cell_type": "code",
   "execution_count": null,
   "id": "7313ae9f-158f-4684-a4ef-8793155a60b1",
   "metadata": {},
   "outputs": [],
   "source": [
    "response = predictor.predict(np.expand_dims(data, axis=1))\n",
    "print(\"Raw prediction result:\")\n",
    "print(response)\n",
    "print()\n",
    "\n",
    "labeled_predictions = list(zip(range(10), response[0]))\n",
    "print(\"Labeled predictions: \")\n",
    "print(labeled_predictions)\n",
    "print()\n",
    "\n",
    "labeled_predictions.sort(key=lambda label_and_prob: 1.0 - label_and_prob[1])\n",
    "print(\"Most likely answer: {}\".format(labeled_predictions[0]))"
   ]
  },
  {
   "cell_type": "markdown",
   "id": "95c54f9b-63d3-44be-a045-b23b5a706488",
   "metadata": {},
   "source": [
    "# 備考\n",
    "\n",
    "本ドキュメントは、[Amazon SageMaker Examples](https://github.com/aws/amazon-sagemaker-examples)のコードを含みます。そのライセンスは、[LICENSE.txt](https://github.com/aws/amazon-sagemaker-examples/blob/main/LICENSE.txt)を参照してください。"
   ]
  }
 ],
 "metadata": {
  "kernelspec": {
   "display_name": "Python 3 (ipykernel)",
   "language": "python",
   "name": "python3"
  },
  "language_info": {
   "codemirror_mode": {
    "name": "ipython",
    "version": 3
   },
   "file_extension": ".py",
   "mimetype": "text/x-python",
   "name": "python",
   "nbconvert_exporter": "python",
   "pygments_lexer": "ipython3",
   "version": "3.10.4"
  }
 },
 "nbformat": 4,
 "nbformat_minor": 5
}
